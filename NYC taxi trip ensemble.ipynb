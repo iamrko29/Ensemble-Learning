{
 "cells": [
  {
   "cell_type": "markdown",
   "id": "c3923412",
   "metadata": {},
   "source": [
    "# Ensemble Learning Project"
   ]
  },
  {
   "cell_type": "markdown",
   "id": "8ecc7369",
   "metadata": {},
   "source": [
    "The dataset is NYC Taxi Trip dataset.This dataset contains information about the\n",
    "taxi trips that took place in different parts of New York City and how much time did that trip take\n",
    "to complete."
   ]
  },
  {
   "cell_type": "markdown",
   "id": "1db5388b",
   "metadata": {},
   "source": [
    "Building the following predictive models: KNN, Linear Model, Random Forest and Gradient Boosting Model. Then ensembling the predictions of each model."
   ]
  },
  {
   "cell_type": "code",
   "execution_count": 1,
   "id": "06ed25bb",
   "metadata": {},
   "outputs": [],
   "source": [
    "# importing libraries\n",
    "import pandas as pd\n",
    "import numpy as np\n",
    "import matplotlib.pyplot as plt\n",
    "%matplotlib inline"
   ]
  },
  {
   "cell_type": "code",
   "execution_count": 2,
   "id": "75646da6",
   "metadata": {},
   "outputs": [],
   "source": [
    "# loading the dataset\n",
    "data = pd.read_csv('F:\\\\Python\\\\Ensemble learning(Course 5)\\\\Course 5 Project\\\\nyc_taxi_trip_duration Dataset.csv')"
   ]
  },
  {
   "cell_type": "code",
   "execution_count": 3,
   "id": "49a78a59",
   "metadata": {},
   "outputs": [
    {
     "data": {
      "text/html": [
       "<div>\n",
       "<style scoped>\n",
       "    .dataframe tbody tr th:only-of-type {\n",
       "        vertical-align: middle;\n",
       "    }\n",
       "\n",
       "    .dataframe tbody tr th {\n",
       "        vertical-align: top;\n",
       "    }\n",
       "\n",
       "    .dataframe thead th {\n",
       "        text-align: right;\n",
       "    }\n",
       "</style>\n",
       "<table border=\"1\" class=\"dataframe\">\n",
       "  <thead>\n",
       "    <tr style=\"text-align: right;\">\n",
       "      <th></th>\n",
       "      <th>id</th>\n",
       "      <th>vendor_id</th>\n",
       "      <th>pickup_datetime</th>\n",
       "      <th>dropoff_datetime</th>\n",
       "      <th>passenger_count</th>\n",
       "      <th>pickup_longitude</th>\n",
       "      <th>pickup_latitude</th>\n",
       "      <th>dropoff_longitude</th>\n",
       "      <th>dropoff_latitude</th>\n",
       "      <th>store_and_fwd_flag</th>\n",
       "      <th>trip_duration</th>\n",
       "    </tr>\n",
       "  </thead>\n",
       "  <tbody>\n",
       "    <tr>\n",
       "      <th>0</th>\n",
       "      <td>id1080784</td>\n",
       "      <td>2</td>\n",
       "      <td>2016-02-29 16:40:21</td>\n",
       "      <td>2016-02-29 16:47:01</td>\n",
       "      <td>1</td>\n",
       "      <td>-73.953918</td>\n",
       "      <td>40.778873</td>\n",
       "      <td>-73.963875</td>\n",
       "      <td>40.771164</td>\n",
       "      <td>N</td>\n",
       "      <td>400</td>\n",
       "    </tr>\n",
       "    <tr>\n",
       "      <th>1</th>\n",
       "      <td>id0889885</td>\n",
       "      <td>1</td>\n",
       "      <td>2016-03-11 23:35:37</td>\n",
       "      <td>2016-03-11 23:53:57</td>\n",
       "      <td>2</td>\n",
       "      <td>-73.988312</td>\n",
       "      <td>40.731743</td>\n",
       "      <td>-73.994751</td>\n",
       "      <td>40.694931</td>\n",
       "      <td>N</td>\n",
       "      <td>1100</td>\n",
       "    </tr>\n",
       "    <tr>\n",
       "      <th>2</th>\n",
       "      <td>id0857912</td>\n",
       "      <td>2</td>\n",
       "      <td>2016-02-21 17:59:33</td>\n",
       "      <td>2016-02-21 18:26:48</td>\n",
       "      <td>2</td>\n",
       "      <td>-73.997314</td>\n",
       "      <td>40.721458</td>\n",
       "      <td>-73.948029</td>\n",
       "      <td>40.774918</td>\n",
       "      <td>N</td>\n",
       "      <td>1635</td>\n",
       "    </tr>\n",
       "    <tr>\n",
       "      <th>3</th>\n",
       "      <td>id3744273</td>\n",
       "      <td>2</td>\n",
       "      <td>2016-01-05 09:44:31</td>\n",
       "      <td>2016-01-05 10:03:32</td>\n",
       "      <td>6</td>\n",
       "      <td>-73.961670</td>\n",
       "      <td>40.759720</td>\n",
       "      <td>-73.956779</td>\n",
       "      <td>40.780628</td>\n",
       "      <td>N</td>\n",
       "      <td>1141</td>\n",
       "    </tr>\n",
       "    <tr>\n",
       "      <th>4</th>\n",
       "      <td>id0232939</td>\n",
       "      <td>1</td>\n",
       "      <td>2016-02-17 06:42:23</td>\n",
       "      <td>2016-02-17 06:56:31</td>\n",
       "      <td>1</td>\n",
       "      <td>-74.017120</td>\n",
       "      <td>40.708469</td>\n",
       "      <td>-73.988182</td>\n",
       "      <td>40.740631</td>\n",
       "      <td>N</td>\n",
       "      <td>848</td>\n",
       "    </tr>\n",
       "  </tbody>\n",
       "</table>\n",
       "</div>"
      ],
      "text/plain": [
       "          id  vendor_id      pickup_datetime     dropoff_datetime  \\\n",
       "0  id1080784          2  2016-02-29 16:40:21  2016-02-29 16:47:01   \n",
       "1  id0889885          1  2016-03-11 23:35:37  2016-03-11 23:53:57   \n",
       "2  id0857912          2  2016-02-21 17:59:33  2016-02-21 18:26:48   \n",
       "3  id3744273          2  2016-01-05 09:44:31  2016-01-05 10:03:32   \n",
       "4  id0232939          1  2016-02-17 06:42:23  2016-02-17 06:56:31   \n",
       "\n",
       "   passenger_count  pickup_longitude  pickup_latitude  dropoff_longitude  \\\n",
       "0                1        -73.953918        40.778873         -73.963875   \n",
       "1                2        -73.988312        40.731743         -73.994751   \n",
       "2                2        -73.997314        40.721458         -73.948029   \n",
       "3                6        -73.961670        40.759720         -73.956779   \n",
       "4                1        -74.017120        40.708469         -73.988182   \n",
       "\n",
       "   dropoff_latitude store_and_fwd_flag  trip_duration  \n",
       "0         40.771164                  N            400  \n",
       "1         40.694931                  N           1100  \n",
       "2         40.774918                  N           1635  \n",
       "3         40.780628                  N           1141  \n",
       "4         40.740631                  N            848  "
      ]
     },
     "execution_count": 3,
     "metadata": {},
     "output_type": "execute_result"
    }
   ],
   "source": [
    "# first five rows of the dataset\n",
    "data.head()"
   ]
  },
  {
   "cell_type": "code",
   "execution_count": 4,
   "id": "8b5616cf",
   "metadata": {},
   "outputs": [
    {
     "data": {
      "text/plain": [
       "(729322, 11)"
      ]
     },
     "execution_count": 4,
     "metadata": {},
     "output_type": "execute_result"
    }
   ],
   "source": [
    "# shape of the dataset\n",
    "data.shape"
   ]
  },
  {
   "cell_type": "code",
   "execution_count": 5,
   "id": "263b7784",
   "metadata": {},
   "outputs": [
    {
     "data": {
      "text/plain": [
       "id                    0\n",
       "vendor_id             0\n",
       "pickup_datetime       0\n",
       "dropoff_datetime      0\n",
       "passenger_count       0\n",
       "pickup_longitude      0\n",
       "pickup_latitude       0\n",
       "dropoff_longitude     0\n",
       "dropoff_latitude      0\n",
       "store_and_fwd_flag    0\n",
       "trip_duration         0\n",
       "dtype: int64"
      ]
     },
     "execution_count": 5,
     "metadata": {},
     "output_type": "execute_result"
    }
   ],
   "source": [
    "# checking for missing values\n",
    "data.isna().sum()"
   ]
  },
  {
   "cell_type": "markdown",
   "id": "b3c87e37",
   "metadata": {},
   "source": [
    "No missing values present"
   ]
  },
  {
   "cell_type": "code",
   "execution_count": 6,
   "id": "84ceac2b",
   "metadata": {},
   "outputs": [
    {
     "data": {
      "text/plain": [
       "id                     object\n",
       "vendor_id               int64\n",
       "pickup_datetime        object\n",
       "dropoff_datetime       object\n",
       "passenger_count         int64\n",
       "pickup_longitude      float64\n",
       "pickup_latitude       float64\n",
       "dropoff_longitude     float64\n",
       "dropoff_latitude      float64\n",
       "store_and_fwd_flag     object\n",
       "trip_duration           int64\n",
       "dtype: object"
      ]
     },
     "execution_count": 6,
     "metadata": {},
     "output_type": "execute_result"
    }
   ],
   "source": [
    "# checking the datatypes\n",
    "data.dtypes"
   ]
  },
  {
   "cell_type": "code",
   "execution_count": 7,
   "id": "11581fa4",
   "metadata": {},
   "outputs": [],
   "source": [
    "# Dropping the id variable\n",
    "data = data.drop(['id'], axis=1)"
   ]
  },
  {
   "cell_type": "markdown",
   "id": "0ea8aac9",
   "metadata": {},
   "source": [
    "Since the id variable doesnot provide any valueable insights it is dropped from the dataset."
   ]
  },
  {
   "cell_type": "code",
   "execution_count": 8,
   "id": "18eb4191",
   "metadata": {},
   "outputs": [],
   "source": [
    "# converting strings to datetime features\n",
    "data['pickup_datetime'] = pd.to_datetime(data.pickup_datetime)\n",
    "data['dropoff_datetime'] = pd.to_datetime(data.dropoff_datetime)\n",
    "\n",
    "# converting yes/no flag to 1 and 0\n",
    "data['store_and_fwd_flag'] = 1 * (data.store_and_fwd_flag == 'Y')"
   ]
  },
  {
   "cell_type": "code",
   "execution_count": 9,
   "id": "41b2b3d1",
   "metadata": {},
   "outputs": [],
   "source": [
    "# extracting new columns from pickup_datetime\n",
    "\n",
    "# day of week of pickup\n",
    "data['pickup_dow'] = data['pickup_datetime'].dt.weekday\n",
    "\n",
    "# month of year of pickup\n",
    "data['pickup_month'] = data['pickup_datetime'].dt.month\n",
    "\n",
    "# hour of day of pickup\n",
    "data['pickup_hour'] = data['pickup_datetime'].dt.hour"
   ]
  },
  {
   "cell_type": "code",
   "execution_count": 10,
   "id": "868e9326",
   "metadata": {},
   "outputs": [],
   "source": [
    "# dropping the datetime variables\n",
    "data = data.drop(['pickup_datetime', 'dropoff_datetime'], axis=1)"
   ]
  },
  {
   "cell_type": "code",
   "execution_count": 11,
   "id": "ef513660",
   "metadata": {},
   "outputs": [],
   "source": [
    "# creating a function to calculate haversine_distance\n",
    "def haversine_vectorize(lon1, lat1, lon2, lat2):\n",
    "\n",
    "    lon1, lat1, lon2, lat2 = map(np.radians, [lon1, lat1, lon2, lat2])\n",
    "\n",
    "    newlon = lon2 - lon1\n",
    "    newlat = lat2 - lat1\n",
    "\n",
    "    haver_formula = np.sin(newlat/2.0)**2 + np.cos(lat1) * np.cos(lat2) * np.sin(newlon/2.0)**2\n",
    "\n",
    "    dist = 2 * np.arcsin(np.sqrt(haver_formula ))\n",
    "    km = 6367 * dist #6367 for distance in KM for miles use 3958\n",
    "    return km"
   ]
  },
  {
   "cell_type": "code",
   "execution_count": 12,
   "id": "69ce2aaa",
   "metadata": {},
   "outputs": [],
   "source": [
    "data['distance'] = haversine_vectorize(data['pickup_longitude'],data['pickup_latitude'],data['dropoff_longitude'],data['dropoff_latitude'])"
   ]
  },
  {
   "cell_type": "code",
   "execution_count": 13,
   "id": "01562191",
   "metadata": {},
   "outputs": [],
   "source": [
    "# dropping the latitudes and longitudes\n",
    "#data = data.drop(['pickup_latitude', 'dropoff_latitude', 'pickup_longitude', 'dropoff_longitude'], axis=1) "
   ]
  },
  {
   "cell_type": "code",
   "execution_count": 14,
   "id": "dce1167f",
   "metadata": {},
   "outputs": [
    {
     "data": {
      "text/plain": [
       "vendor_id               int64\n",
       "passenger_count         int64\n",
       "pickup_longitude      float64\n",
       "pickup_latitude       float64\n",
       "dropoff_longitude     float64\n",
       "dropoff_latitude      float64\n",
       "store_and_fwd_flag      int32\n",
       "trip_duration           int64\n",
       "pickup_dow              int64\n",
       "pickup_month            int64\n",
       "pickup_hour             int64\n",
       "distance              float64\n",
       "dtype: object"
      ]
     },
     "execution_count": 14,
     "metadata": {},
     "output_type": "execute_result"
    }
   ],
   "source": [
    "# checking the datatypes again\n",
    "data.dtypes"
   ]
  },
  {
   "cell_type": "markdown",
   "id": "53601455",
   "metadata": {},
   "source": [
    "# Building a KNN model"
   ]
  },
  {
   "cell_type": "code",
   "execution_count": 15,
   "id": "70226293",
   "metadata": {},
   "outputs": [
    {
     "data": {
      "text/plain": [
       "((729322, 11), (729322,))"
      ]
     },
     "execution_count": 15,
     "metadata": {},
     "output_type": "execute_result"
    }
   ],
   "source": [
    "# Seperating the dependent and independent variables\n",
    "x = data.drop(['trip_duration'], axis=1)\n",
    "y = data['trip_duration']\n",
    "\n",
    "x.shape, y.shape"
   ]
  },
  {
   "cell_type": "code",
   "execution_count": 16,
   "id": "3e98b349",
   "metadata": {},
   "outputs": [],
   "source": [
    "# Scaling the data\n",
    "from sklearn.preprocessing import StandardScaler\n",
    "scaler = StandardScaler()\n",
    "x_scaled = scaler.fit_transform(x)"
   ]
  },
  {
   "cell_type": "code",
   "execution_count": 17,
   "id": "d86cd10c",
   "metadata": {},
   "outputs": [],
   "source": [
    "x = pd.DataFrame(x_scaled,columns=x.columns)"
   ]
  },
  {
   "cell_type": "code",
   "execution_count": 18,
   "id": "8f31514d",
   "metadata": {},
   "outputs": [
    {
     "data": {
      "text/html": [
       "<div>\n",
       "<style scoped>\n",
       "    .dataframe tbody tr th:only-of-type {\n",
       "        vertical-align: middle;\n",
       "    }\n",
       "\n",
       "    .dataframe tbody tr th {\n",
       "        vertical-align: top;\n",
       "    }\n",
       "\n",
       "    .dataframe thead th {\n",
       "        text-align: right;\n",
       "    }\n",
       "</style>\n",
       "<table border=\"1\" class=\"dataframe\">\n",
       "  <thead>\n",
       "    <tr style=\"text-align: right;\">\n",
       "      <th></th>\n",
       "      <th>vendor_id</th>\n",
       "      <th>passenger_count</th>\n",
       "      <th>pickup_longitude</th>\n",
       "      <th>pickup_latitude</th>\n",
       "      <th>dropoff_longitude</th>\n",
       "      <th>dropoff_latitude</th>\n",
       "      <th>store_and_fwd_flag</th>\n",
       "      <th>pickup_dow</th>\n",
       "      <th>pickup_month</th>\n",
       "      <th>pickup_hour</th>\n",
       "      <th>distance</th>\n",
       "    </tr>\n",
       "  </thead>\n",
       "  <tbody>\n",
       "    <tr>\n",
       "      <th>0</th>\n",
       "      <td>0.931533</td>\n",
       "      <td>-0.504444</td>\n",
       "      <td>0.280911</td>\n",
       "      <td>0.832127</td>\n",
       "      <td>0.137198</td>\n",
       "      <td>0.538014</td>\n",
       "      <td>-0.074634</td>\n",
       "      <td>-1.560057</td>\n",
       "      <td>-0.903461</td>\n",
       "      <td>0.373006</td>\n",
       "      <td>-0.515047</td>\n",
       "    </tr>\n",
       "    <tr>\n",
       "      <th>1</th>\n",
       "      <td>-1.073500</td>\n",
       "      <td>0.257493</td>\n",
       "      <td>-0.212156</td>\n",
       "      <td>-0.570815</td>\n",
       "      <td>-0.306500</td>\n",
       "      <td>-1.577382</td>\n",
       "      <td>-0.074634</td>\n",
       "      <td>0.486536</td>\n",
       "      <td>-0.308456</td>\n",
       "      <td>1.466269</td>\n",
       "      <td>0.158041</td>\n",
       "    </tr>\n",
       "    <tr>\n",
       "      <th>2</th>\n",
       "      <td>0.931533</td>\n",
       "      <td>0.257493</td>\n",
       "      <td>-0.341220</td>\n",
       "      <td>-0.876953</td>\n",
       "      <td>0.364913</td>\n",
       "      <td>0.642175</td>\n",
       "      <td>-0.074634</td>\n",
       "      <td>1.509832</td>\n",
       "      <td>-0.903461</td>\n",
       "      <td>0.529187</td>\n",
       "      <td>0.875144</td>\n",
       "    </tr>\n",
       "    <tr>\n",
       "      <th>3</th>\n",
       "      <td>0.931533</td>\n",
       "      <td>3.305240</td>\n",
       "      <td>0.169785</td>\n",
       "      <td>0.261980</td>\n",
       "      <td>0.239160</td>\n",
       "      <td>0.800639</td>\n",
       "      <td>-0.074634</td>\n",
       "      <td>-1.048408</td>\n",
       "      <td>-1.498465</td>\n",
       "      <td>-0.720257</td>\n",
       "      <td>-0.248107</td>\n",
       "    </tr>\n",
       "    <tr>\n",
       "      <th>4</th>\n",
       "      <td>-1.073500</td>\n",
       "      <td>-0.504444</td>\n",
       "      <td>-0.625160</td>\n",
       "      <td>-1.263600</td>\n",
       "      <td>-0.212103</td>\n",
       "      <td>-0.309245</td>\n",
       "      <td>-0.074634</td>\n",
       "      <td>-0.536760</td>\n",
       "      <td>-0.903461</td>\n",
       "      <td>-1.188799</td>\n",
       "      <td>0.203852</td>\n",
       "    </tr>\n",
       "  </tbody>\n",
       "</table>\n",
       "</div>"
      ],
      "text/plain": [
       "   vendor_id  passenger_count  pickup_longitude  pickup_latitude  \\\n",
       "0   0.931533        -0.504444          0.280911         0.832127   \n",
       "1  -1.073500         0.257493         -0.212156        -0.570815   \n",
       "2   0.931533         0.257493         -0.341220        -0.876953   \n",
       "3   0.931533         3.305240          0.169785         0.261980   \n",
       "4  -1.073500        -0.504444         -0.625160        -1.263600   \n",
       "\n",
       "   dropoff_longitude  dropoff_latitude  store_and_fwd_flag  pickup_dow  \\\n",
       "0           0.137198          0.538014           -0.074634   -1.560057   \n",
       "1          -0.306500         -1.577382           -0.074634    0.486536   \n",
       "2           0.364913          0.642175           -0.074634    1.509832   \n",
       "3           0.239160          0.800639           -0.074634   -1.048408   \n",
       "4          -0.212103         -0.309245           -0.074634   -0.536760   \n",
       "\n",
       "   pickup_month  pickup_hour  distance  \n",
       "0     -0.903461     0.373006 -0.515047  \n",
       "1     -0.308456     1.466269  0.158041  \n",
       "2     -0.903461     0.529187  0.875144  \n",
       "3     -1.498465    -0.720257 -0.248107  \n",
       "4     -0.903461    -1.188799  0.203852  "
      ]
     },
     "execution_count": 18,
     "metadata": {},
     "output_type": "execute_result"
    }
   ],
   "source": [
    "x.head()"
   ]
  },
  {
   "cell_type": "code",
   "execution_count": 19,
   "id": "33468d7e",
   "metadata": {},
   "outputs": [],
   "source": [
    "# importing the train test split function\n",
    "from sklearn.model_selection import train_test_split\n",
    "train_x, test_x, train_y, test_y = train_test_split(x,y,random_state=56)"
   ]
  },
  {
   "cell_type": "code",
   "execution_count": 20,
   "id": "edf4c220",
   "metadata": {},
   "outputs": [
    {
     "name": "stdout",
     "output_type": "stream",
     "text": [
      "Training dataset:  (546991, 11) (546991,)\n",
      "Test dataset:  (182331, 11) (182331,)\n"
     ]
    }
   ],
   "source": [
    "print('Training dataset: ',train_x.shape,train_y.shape)\n",
    "print('Test dataset: ',test_x.shape,test_y.shape)"
   ]
  },
  {
   "cell_type": "code",
   "execution_count": 21,
   "id": "fa418479",
   "metadata": {},
   "outputs": [],
   "source": [
    "# importing KNN regressor\n",
    "from sklearn.neighbors import KNeighborsRegressor"
   ]
  },
  {
   "cell_type": "code",
   "execution_count": 22,
   "id": "2b665d98",
   "metadata": {},
   "outputs": [
    {
     "data": {
      "text/plain": [
       "KNeighborsRegressor(n_jobs=-1)"
      ]
     },
     "execution_count": 22,
     "metadata": {},
     "output_type": "execute_result"
    }
   ],
   "source": [
    "# creating instance of KNNR\n",
    "knn = KNeighborsRegressor(n_neighbors=5, n_jobs=-1)\n",
    "\n",
    "# Fitting the model\n",
    "knn.fit(train_x,train_y)"
   ]
  },
  {
   "cell_type": "code",
   "execution_count": 23,
   "id": "f578fb26",
   "metadata": {},
   "outputs": [],
   "source": [
    "# importing r2 score\n",
    "from sklearn.metrics import r2_score"
   ]
  },
  {
   "cell_type": "code",
   "execution_count": 25,
   "id": "4958920a",
   "metadata": {},
   "outputs": [
    {
     "name": "stdout",
     "output_type": "stream",
     "text": [
      "Test r2 score  -0.24530256012972518\n"
     ]
    }
   ],
   "source": [
    "\n",
    "# score of the model on the test set\n",
    "test_predict = knn.predict(test_x)\n",
    "k = r2_score(test_y, test_predict)\n",
    "\n",
    "print('Test r2 score ',k)"
   ]
  },
  {
   "cell_type": "markdown",
   "id": "22e0f8b3",
   "metadata": {},
   "source": [
    "The r2 score on the test set is negative that means our model is performing very poorly."
   ]
  },
  {
   "cell_type": "code",
   "execution_count": 26,
   "id": "9efcd1d1",
   "metadata": {},
   "outputs": [],
   "source": [
    "# Elbow for regression\n",
    "def Elbow(K):\n",
    "    test_score = []\n",
    "    \n",
    "    # training model for every value of K\n",
    "    for i in K:\n",
    "        knn = KNeighborsRegressor(n_neighbors=i, n_jobs=-1)\n",
    "        knn.fit(train_x,train_y)\n",
    "        \n",
    "        test_predict = knn.predict(test_x)\n",
    "        tmp = r2_score(test_y,test_predict)\n",
    "        test_score.append(tmp)\n",
    "    \n",
    "    return test_score"
   ]
  },
  {
   "cell_type": "code",
   "execution_count": 27,
   "id": "3a5a381a",
   "metadata": {},
   "outputs": [],
   "source": [
    "k = range(1,50,4)"
   ]
  },
  {
   "cell_type": "code",
   "execution_count": 28,
   "id": "d0705ef4",
   "metadata": {},
   "outputs": [],
   "source": [
    "test = Elbow(k)"
   ]
  },
  {
   "cell_type": "code",
   "execution_count": 29,
   "id": "020dd392",
   "metadata": {},
   "outputs": [
    {
     "data": {
      "text/plain": [
       "Text(0.5, 1.0, 'Elbow curve for Test')"
      ]
     },
     "execution_count": 29,
     "metadata": {},
     "output_type": "execute_result"
    },
    {
     "data": {
      "image/png": "[encoded data removed]",
      "text/plain": [
       "<Figure size 432x288 with 1 Axes>"
      ]
     },
     "metadata": {
      "needs_background": "light"
     },
     "output_type": "display_data"
    }
   ],
   "source": [
    "# plotting the curves\n",
    "plt.plot(k,test)\n",
    "plt.xlabel('K Neighbors')\n",
    "plt.ylabel('Test R2 Score')\n",
    "plt.title('Elbow curve for Test')"
   ]
  },
  {
   "cell_type": "markdown",
   "id": "443332c2",
   "metadata": {},
   "source": [
    "The score is best at k=10."
   ]
  },
  {
   "cell_type": "code",
   "execution_count": 30,
   "id": "d96d9750",
   "metadata": {},
   "outputs": [
    {
     "data": {
      "text/plain": [
       "KNeighborsRegressor(n_jobs=-1, n_neighbors=10)"
      ]
     },
     "execution_count": 30,
     "metadata": {},
     "output_type": "execute_result"
    }
   ],
   "source": [
    "# creating instance of KNNR\n",
    "knn = KNeighborsRegressor(n_neighbors=10, n_jobs=-1)\n",
    "\n",
    "# Fitting the model\n",
    "knn.fit(train_x,train_y)"
   ]
  },
  {
   "cell_type": "code",
   "execution_count": 31,
   "id": "8ccec0f3",
   "metadata": {},
   "outputs": [
    {
     "name": "stdout",
     "output_type": "stream",
     "text": [
      "0.1317344886191285 -0.12697445401182406\n"
     ]
    }
   ],
   "source": [
    "# predicting over the train set\n",
    "M1_train = knn.predict(train_x)\n",
    "train_score = r2_score(train_y, M1_train)\n",
    "\n",
    "# predicting over the test set\n",
    "M1_test = knn.predict(test_x)\n",
    "test_score = r2_score(test_y, M1_test)\n",
    "\n",
    "print(train_score, test_score)"
   ]
  },
  {
   "cell_type": "markdown",
   "id": "2cde5228",
   "metadata": {},
   "source": [
    "# Building a Linear model"
   ]
  },
  {
   "cell_type": "code",
   "execution_count": 32,
   "id": "7291d5b2",
   "metadata": {},
   "outputs": [],
   "source": [
    "# segregating dependent and independent variables\n",
    "x = data.drop(['trip_duration'],axis=1)\n",
    "y = data['trip_duration']"
   ]
  },
  {
   "cell_type": "code",
   "execution_count": 33,
   "id": "45383142",
   "metadata": {},
   "outputs": [],
   "source": [
    "# creating train and test set\n",
    "train_x, test_x , train_y, test_y = train_test_split(x,y,random_state=101)"
   ]
  },
  {
   "cell_type": "code",
   "execution_count": 34,
   "id": "e6f43f99",
   "metadata": {},
   "outputs": [],
   "source": [
    "from sklearn.linear_model import LinearRegression as LR"
   ]
  },
  {
   "cell_type": "code",
   "execution_count": 35,
   "id": "6dc2cbdc",
   "metadata": {},
   "outputs": [
    {
     "data": {
      "text/plain": [
       "LinearRegression(normalize=True)"
      ]
     },
     "execution_count": 35,
     "metadata": {},
     "output_type": "execute_result"
    }
   ],
   "source": [
    "# creating instance of Linear regression\n",
    "lr = LR(normalize=True)\n",
    "\n",
    "# fitting the model\n",
    "lr.fit(train_x,train_y)"
   ]
  },
  {
   "cell_type": "code",
   "execution_count": 36,
   "id": "8a5a8fae",
   "metadata": {},
   "outputs": [
    {
     "name": "stdout",
     "output_type": "stream",
     "text": [
      "Training score:  0.02428534051049569\n"
     ]
    }
   ],
   "source": [
    "# predicting over the train set\n",
    "train_predict = lr.predict(train_x)\n",
    "k = r2_score(train_y, train_predict)\n",
    "print('Training score: ',k)"
   ]
  },
  {
   "cell_type": "code",
   "execution_count": 37,
   "id": "33097c2d",
   "metadata": {},
   "outputs": [
    {
     "name": "stdout",
     "output_type": "stream",
     "text": [
      "Test score:  0.010144212224132754\n"
     ]
    }
   ],
   "source": [
    "# predicting over the test set\n",
    "test_predict = lr.predict(test_x)\n",
    "k = r2_score(test_y, test_predict)\n",
    "print('Test score: ',k)"
   ]
  },
  {
   "cell_type": "code",
   "execution_count": 38,
   "id": "acd2aef9",
   "metadata": {},
   "outputs": [
    {
     "data": {
      "text/plain": [
       "Lasso(alpha=0.01, normalize=True, tol=1e-05)"
      ]
     },
     "execution_count": 38,
     "metadata": {},
     "output_type": "execute_result"
    }
   ],
   "source": [
    "# performing lasso regularization\n",
    "from sklearn import linear_model\n",
    "lasso_reg = linear_model.Lasso(alpha = 0.01 , normalize = True , max_iter = 1000 , tol = 0.00001)\n",
    "lasso_reg.fit(train_x , train_y)"
   ]
  },
  {
   "cell_type": "code",
   "execution_count": 39,
   "id": "1978d293",
   "metadata": {},
   "outputs": [
    {
     "name": "stdout",
     "output_type": "stream",
     "text": [
      "Train score with lasso regularization: 0.02424018738511835\n"
     ]
    }
   ],
   "source": [
    "train_predict = lasso_reg.predict(train_x)\n",
    "k = r2_score(train_y, train_predict)\n",
    "print('Train score with lasso regularization:' , k)"
   ]
  },
  {
   "cell_type": "code",
   "execution_count": 40,
   "id": "f3bfc728",
   "metadata": {},
   "outputs": [
    {
     "name": "stdout",
     "output_type": "stream",
     "text": [
      "Test score with lasso regularization:  0.01010109542763793\n"
     ]
    }
   ],
   "source": [
    "test_predict = lasso_reg.predict(test_x)\n",
    "k = r2_score(test_y, test_predict)\n",
    "print('Test score with lasso regularization: ' , k)"
   ]
  },
  {
   "cell_type": "code",
   "execution_count": 41,
   "id": "548c1136",
   "metadata": {},
   "outputs": [],
   "source": [
    "M2_train = train_predict\n",
    "M2_test = test_predict"
   ]
  },
  {
   "cell_type": "markdown",
   "id": "4f4ac3b5",
   "metadata": {},
   "source": [
    "# Building Random Forest model"
   ]
  },
  {
   "cell_type": "code",
   "execution_count": 42,
   "id": "23f0adaf",
   "metadata": {},
   "outputs": [
    {
     "data": {
      "text/plain": [
       "((729322, 11), (729322,))"
      ]
     },
     "execution_count": 42,
     "metadata": {},
     "output_type": "execute_result"
    }
   ],
   "source": [
    "# Seperating the dependent and independent variables\n",
    "x = data.drop(['trip_duration'], axis=1)\n",
    "y = data['trip_duration']\n",
    "\n",
    "x.shape, y.shape"
   ]
  },
  {
   "cell_type": "code",
   "execution_count": 43,
   "id": "84777b3d",
   "metadata": {},
   "outputs": [],
   "source": [
    "# importing the train test split function\n",
    "from sklearn.model_selection import train_test_split\n",
    "train_x, test_x, train_y, test_y = train_test_split(x, y, random_state=56)"
   ]
  },
  {
   "cell_type": "code",
   "execution_count": 44,
   "id": "4c3df22c",
   "metadata": {},
   "outputs": [],
   "source": [
    "# importing RandomForestRegressor\n",
    "from sklearn.ensemble import RandomForestRegressor"
   ]
  },
  {
   "cell_type": "code",
   "execution_count": 45,
   "id": "56935778",
   "metadata": {},
   "outputs": [],
   "source": [
    "# creating an instance of RandomForestRegressor\n",
    "reg = RandomForestRegressor(n_estimators=100, max_depth=10, n_jobs=-1)"
   ]
  },
  {
   "cell_type": "code",
   "execution_count": 46,
   "id": "f35e6730",
   "metadata": {},
   "outputs": [
    {
     "data": {
      "text/plain": [
       "RandomForestRegressor(max_depth=10, n_jobs=-1)"
      ]
     },
     "execution_count": 46,
     "metadata": {},
     "output_type": "execute_result"
    }
   ],
   "source": [
    "# fitting the model\n",
    "reg.fit(train_x, train_y)"
   ]
  },
  {
   "cell_type": "code",
   "execution_count": 47,
   "id": "a6b3d8d2",
   "metadata": {},
   "outputs": [],
   "source": [
    "test_predict = reg.predict(test_x)"
   ]
  },
  {
   "cell_type": "code",
   "execution_count": 48,
   "id": "22ab5dea",
   "metadata": {},
   "outputs": [
    {
     "data": {
      "text/plain": [
       "0.00323885560783832"
      ]
     },
     "execution_count": 48,
     "metadata": {},
     "output_type": "execute_result"
    }
   ],
   "source": [
    "r2_score(test_y, test_predict)"
   ]
  },
  {
   "cell_type": "code",
   "execution_count": 49,
   "id": "5deb5c84",
   "metadata": {},
   "outputs": [],
   "source": [
    "# implementing random search\n",
    "from sklearn.model_selection import RandomizedSearchCV"
   ]
  },
  {
   "cell_type": "code",
   "execution_count": 50,
   "id": "87339590",
   "metadata": {},
   "outputs": [],
   "source": [
    "parameter_grid = {\n",
    "    'n_estimators': [70,80,90,100,110,120,130],\n",
    "    'max_depth': [4,5,6,7,8,9,11],\n",
    "    'max_features': [0.3,0.5,0.7,0.9],\n",
    "    'min_samples_split' :[100,250,500,750,1000]\n",
    "}"
   ]
  },
  {
   "cell_type": "code",
   "execution_count": 51,
   "id": "2c015912",
   "metadata": {},
   "outputs": [],
   "source": [
    "randomsearch = RandomizedSearchCV(estimator=reg, param_distributions=parameter_grid, n_iter=15, cv=5,n_jobs=-1)"
   ]
  },
  {
   "cell_type": "code",
   "execution_count": 52,
   "id": "e329b7b5",
   "metadata": {},
   "outputs": [
    {
     "data": {
      "text/plain": [
       "RandomizedSearchCV(cv=5,\n",
       "                   estimator=RandomForestRegressor(max_depth=10, n_jobs=-1),\n",
       "                   n_iter=15, n_jobs=-1,\n",
       "                   param_distributions={'max_depth': [4, 5, 6, 7, 8, 9, 11],\n",
       "                                        'max_features': [0.3, 0.5, 0.7, 0.9],\n",
       "                                        'min_samples_split': [100, 250, 500,\n",
       "                                                              750, 1000],\n",
       "                                        'n_estimators': [70, 80, 90, 100, 110,\n",
       "                                                         120, 130]})"
      ]
     },
     "execution_count": 52,
     "metadata": {},
     "output_type": "execute_result"
    }
   ],
   "source": [
    "randomsearch.fit(train_x, train_y)"
   ]
  },
  {
   "cell_type": "code",
   "execution_count": 53,
   "id": "e8b397cb",
   "metadata": {},
   "outputs": [
    {
     "data": {
      "text/plain": [
       "{'n_estimators': 80,\n",
       " 'min_samples_split': 1000,\n",
       " 'max_features': 0.5,\n",
       " 'max_depth': 11}"
      ]
     },
     "execution_count": 53,
     "metadata": {},
     "output_type": "execute_result"
    }
   ],
   "source": [
    "# best combination of hyperparameter\n",
    "randomsearch.best_params_"
   ]
  },
  {
   "cell_type": "code",
   "execution_count": 54,
   "id": "61d7f137",
   "metadata": {},
   "outputs": [],
   "source": [
    "# creating an instance of RandomForestRegressor with new hyperparameters\n",
    "reg = RandomForestRegressor(n_estimators=70, max_depth=11, min_samples_split=1000, max_features=0.5, n_jobs=-1)"
   ]
  },
  {
   "cell_type": "code",
   "execution_count": 55,
   "id": "cf93763d",
   "metadata": {},
   "outputs": [
    {
     "data": {
      "text/plain": [
       "RandomForestRegressor(max_depth=11, max_features=0.5, min_samples_split=1000,\n",
       "                      n_estimators=70, n_jobs=-1)"
      ]
     },
     "execution_count": 55,
     "metadata": {},
     "output_type": "execute_result"
    }
   ],
   "source": [
    "# fitting the model\n",
    "reg.fit(train_x, train_y)"
   ]
  },
  {
   "cell_type": "code",
   "execution_count": 56,
   "id": "5b069234",
   "metadata": {},
   "outputs": [
    {
     "name": "stdout",
     "output_type": "stream",
     "text": [
      "0.06681261429746044\n"
     ]
    }
   ],
   "source": [
    "# predicting for train set\n",
    "M3_train = reg.predict(train_x)\n",
    "train_score = r2_score(train_y, M3_train)\n",
    "print(train_score)"
   ]
  },
  {
   "cell_type": "code",
   "execution_count": 57,
   "id": "80d39b76",
   "metadata": {},
   "outputs": [
    {
     "name": "stdout",
     "output_type": "stream",
     "text": [
      "0.03383348957273469\n"
     ]
    }
   ],
   "source": [
    "# predicting for test set\n",
    "M3_test = reg.predict(test_x)\n",
    "test_score = r2_score(test_y, M3_test)\n",
    "print(test_score)"
   ]
  },
  {
   "cell_type": "markdown",
   "id": "6aab151b",
   "metadata": {},
   "source": [
    "# Building Gradient Boosting Model"
   ]
  },
  {
   "cell_type": "code",
   "execution_count": 58,
   "id": "d737f786",
   "metadata": {},
   "outputs": [
    {
     "data": {
      "text/plain": [
       "((729322, 11), (729322,))"
      ]
     },
     "execution_count": 58,
     "metadata": {},
     "output_type": "execute_result"
    }
   ],
   "source": [
    "# Seperating the dependent and independent variables\n",
    "x = data.drop(['trip_duration'], axis=1)\n",
    "y = data['trip_duration']\n",
    "\n",
    "x.shape, y.shape"
   ]
  },
  {
   "cell_type": "code",
   "execution_count": 59,
   "id": "d18e151b",
   "metadata": {},
   "outputs": [],
   "source": [
    "train_x, test_x, train_y, test_y = train_test_split(x, y, random_state=56)"
   ]
  },
  {
   "cell_type": "code",
   "execution_count": 60,
   "id": "c611c12b",
   "metadata": {},
   "outputs": [],
   "source": [
    "# Building GBDT model\n",
    "from sklearn.ensemble import GradientBoostingRegressor"
   ]
  },
  {
   "cell_type": "code",
   "execution_count": 61,
   "id": "402360b6",
   "metadata": {},
   "outputs": [],
   "source": [
    "# creating instance\n",
    "reg = GradientBoostingRegressor(random_state=96)"
   ]
  },
  {
   "cell_type": "code",
   "execution_count": 62,
   "id": "579fc4ac",
   "metadata": {},
   "outputs": [
    {
     "data": {
      "text/plain": [
       "GradientBoostingRegressor(random_state=96)"
      ]
     },
     "execution_count": 62,
     "metadata": {},
     "output_type": "execute_result"
    }
   ],
   "source": [
    "# fitting the model\n",
    "reg.fit(train_x, train_y)"
   ]
  },
  {
   "cell_type": "code",
   "execution_count": 63,
   "id": "e362a8de",
   "metadata": {},
   "outputs": [],
   "source": [
    "test_predict = reg.predict(test_x)"
   ]
  },
  {
   "cell_type": "code",
   "execution_count": 64,
   "id": "102c22de",
   "metadata": {},
   "outputs": [
    {
     "data": {
      "text/plain": [
       "-0.4744498562810462"
      ]
     },
     "execution_count": 64,
     "metadata": {},
     "output_type": "execute_result"
    }
   ],
   "source": [
    "r2_score(test_y, test_predict)"
   ]
  },
  {
   "cell_type": "code",
   "execution_count": 65,
   "id": "64bf497b",
   "metadata": {},
   "outputs": [],
   "source": [
    "parameter_grid = {\n",
    "    'n_estimators': [70,80,90,100,110,120,130],\n",
    "    'max_depth': [4,5,6,7,8,9,11],\n",
    "    'max_features': [0.3,0.5,0.7,0.9],\n",
    "    'min_samples_split' :[100,250,500,750,1000]\n",
    "}"
   ]
  },
  {
   "cell_type": "code",
   "execution_count": 66,
   "id": "61b1e520",
   "metadata": {},
   "outputs": [],
   "source": [
    "randomsearch = RandomizedSearchCV(estimator=reg, param_distributions=parameter_grid, n_iter=15, cv=5,n_jobs=-1)"
   ]
  },
  {
   "cell_type": "code",
   "execution_count": 67,
   "id": "aa2369bf",
   "metadata": {},
   "outputs": [
    {
     "data": {
      "text/plain": [
       "RandomizedSearchCV(cv=5, estimator=GradientBoostingRegressor(random_state=96),\n",
       "                   n_iter=15, n_jobs=-1,\n",
       "                   param_distributions={'max_depth': [4, 5, 6, 7, 8, 9, 11],\n",
       "                                        'max_features': [0.3, 0.5, 0.7, 0.9],\n",
       "                                        'min_samples_split': [100, 250, 500,\n",
       "                                                              750, 1000],\n",
       "                                        'n_estimators': [70, 80, 90, 100, 110,\n",
       "                                                         120, 130]})"
      ]
     },
     "execution_count": 67,
     "metadata": {},
     "output_type": "execute_result"
    }
   ],
   "source": [
    "randomsearch.fit(train_x, train_y)"
   ]
  },
  {
   "cell_type": "code",
   "execution_count": 68,
   "id": "24ac423a",
   "metadata": {},
   "outputs": [
    {
     "data": {
      "text/plain": [
       "{'n_estimators': 70,\n",
       " 'min_samples_split': 100,\n",
       " 'max_features': 0.7,\n",
       " 'max_depth': 4}"
      ]
     },
     "execution_count": 68,
     "metadata": {},
     "output_type": "execute_result"
    }
   ],
   "source": [
    "# best combination of hyperparameter\n",
    "randomsearch.best_params_"
   ]
  },
  {
   "cell_type": "code",
   "execution_count": 69,
   "id": "6613112b",
   "metadata": {},
   "outputs": [],
   "source": [
    "# creating instance with new hyperparameters\n",
    "reg = GradientBoostingRegressor(random_state=96, n_estimators=90, min_samples_split=750, max_features=0.3, max_depth=4)"
   ]
  },
  {
   "cell_type": "code",
   "execution_count": 70,
   "id": "f68aec95",
   "metadata": {},
   "outputs": [
    {
     "data": {
      "text/plain": [
       "GradientBoostingRegressor(max_depth=4, max_features=0.3, min_samples_split=750,\n",
       "                          n_estimators=90, random_state=96)"
      ]
     },
     "execution_count": 70,
     "metadata": {},
     "output_type": "execute_result"
    }
   ],
   "source": [
    "# fitting the model\n",
    "reg.fit(train_x, train_y)"
   ]
  },
  {
   "cell_type": "code",
   "execution_count": 71,
   "id": "29a2aac9",
   "metadata": {},
   "outputs": [
    {
     "name": "stdout",
     "output_type": "stream",
     "text": [
      "0.29040810709159715\n"
     ]
    }
   ],
   "source": [
    "# predicting for train set\n",
    "M4_train = reg.predict(train_x)\n",
    "train_score = r2_score(train_y, M4_train)\n",
    "print(train_score)"
   ]
  },
  {
   "cell_type": "code",
   "execution_count": 72,
   "id": "bea900c4",
   "metadata": {},
   "outputs": [
    {
     "name": "stdout",
     "output_type": "stream",
     "text": [
      "0.02334664855120816\n"
     ]
    }
   ],
   "source": [
    "# predicting for test set\n",
    "M4_test = reg.predict(test_x)\n",
    "test_score = r2_score(test_y, M4_test)\n",
    "print(test_score)"
   ]
  },
  {
   "cell_type": "markdown",
   "id": "e4ee08bc",
   "metadata": {},
   "source": [
    "# Performing weighted averaging"
   ]
  },
  {
   "cell_type": "code",
   "execution_count": 73,
   "id": "c1e9a2e4",
   "metadata": {},
   "outputs": [
    {
     "data": {
      "text/html": [
       "<div>\n",
       "<style scoped>\n",
       "    .dataframe tbody tr th:only-of-type {\n",
       "        vertical-align: middle;\n",
       "    }\n",
       "\n",
       "    .dataframe tbody tr th {\n",
       "        vertical-align: top;\n",
       "    }\n",
       "\n",
       "    .dataframe thead th {\n",
       "        text-align: right;\n",
       "    }\n",
       "</style>\n",
       "<table border=\"1\" class=\"dataframe\">\n",
       "  <thead>\n",
       "    <tr style=\"text-align: right;\">\n",
       "      <th></th>\n",
       "      <th>KNN</th>\n",
       "      <th>LR</th>\n",
       "      <th>RF</th>\n",
       "      <th>GBM</th>\n",
       "    </tr>\n",
       "  </thead>\n",
       "  <tbody>\n",
       "    <tr>\n",
       "      <th>0</th>\n",
       "      <td>704.2</td>\n",
       "      <td>741.172174</td>\n",
       "      <td>935.685157</td>\n",
       "      <td>941.824276</td>\n",
       "    </tr>\n",
       "    <tr>\n",
       "      <th>1</th>\n",
       "      <td>513.1</td>\n",
       "      <td>757.213131</td>\n",
       "      <td>687.064259</td>\n",
       "      <td>581.063764</td>\n",
       "    </tr>\n",
       "    <tr>\n",
       "      <th>2</th>\n",
       "      <td>557.6</td>\n",
       "      <td>1014.037256</td>\n",
       "      <td>665.428158</td>\n",
       "      <td>696.481474</td>\n",
       "    </tr>\n",
       "    <tr>\n",
       "      <th>3</th>\n",
       "      <td>470.7</td>\n",
       "      <td>763.206138</td>\n",
       "      <td>345.893932</td>\n",
       "      <td>347.580179</td>\n",
       "    </tr>\n",
       "    <tr>\n",
       "      <th>4</th>\n",
       "      <td>520.1</td>\n",
       "      <td>750.042770</td>\n",
       "      <td>813.672046</td>\n",
       "      <td>963.100399</td>\n",
       "    </tr>\n",
       "  </tbody>\n",
       "</table>\n",
       "</div>"
      ],
      "text/plain": [
       "     KNN           LR          RF         GBM\n",
       "0  704.2   741.172174  935.685157  941.824276\n",
       "1  513.1   757.213131  687.064259  581.063764\n",
       "2  557.6  1014.037256  665.428158  696.481474\n",
       "3  470.7   763.206138  345.893932  347.580179\n",
       "4  520.1   750.042770  813.672046  963.100399"
      ]
     },
     "execution_count": 73,
     "metadata": {},
     "output_type": "execute_result"
    }
   ],
   "source": [
    "# Stacking model\n",
    "\n",
    "# Creating a new train dataframe\n",
    "train_prediction = {\n",
    "    'KNN': M1_train,\n",
    "    'LR': M2_train,\n",
    "    'RF': M3_train,\n",
    "    'GBM': M4_train\n",
    "}\n",
    "train_predictions = pd.DataFrame(train_prediction)\n",
    "train_predictions.head()"
   ]
  },
  {
   "cell_type": "code",
   "execution_count": 74,
   "id": "ca659ad9",
   "metadata": {},
   "outputs": [
    {
     "data": {
      "text/html": [
       "<div>\n",
       "<style scoped>\n",
       "    .dataframe tbody tr th:only-of-type {\n",
       "        vertical-align: middle;\n",
       "    }\n",
       "\n",
       "    .dataframe tbody tr th {\n",
       "        vertical-align: top;\n",
       "    }\n",
       "\n",
       "    .dataframe thead th {\n",
       "        text-align: right;\n",
       "    }\n",
       "</style>\n",
       "<table border=\"1\" class=\"dataframe\">\n",
       "  <thead>\n",
       "    <tr style=\"text-align: right;\">\n",
       "      <th></th>\n",
       "      <th>KNN</th>\n",
       "      <th>LR</th>\n",
       "      <th>RF</th>\n",
       "      <th>GBM</th>\n",
       "    </tr>\n",
       "  </thead>\n",
       "  <tbody>\n",
       "    <tr>\n",
       "      <th>0</th>\n",
       "      <td>1975.0</td>\n",
       "      <td>663.461097</td>\n",
       "      <td>2589.631497</td>\n",
       "      <td>1559.337757</td>\n",
       "    </tr>\n",
       "    <tr>\n",
       "      <th>1</th>\n",
       "      <td>829.8</td>\n",
       "      <td>936.794838</td>\n",
       "      <td>1264.023314</td>\n",
       "      <td>1262.563100</td>\n",
       "    </tr>\n",
       "    <tr>\n",
       "      <th>2</th>\n",
       "      <td>285.6</td>\n",
       "      <td>887.935422</td>\n",
       "      <td>635.206762</td>\n",
       "      <td>645.947272</td>\n",
       "    </tr>\n",
       "    <tr>\n",
       "      <th>3</th>\n",
       "      <td>2767.4</td>\n",
       "      <td>1224.843630</td>\n",
       "      <td>2396.138134</td>\n",
       "      <td>1937.767748</td>\n",
       "    </tr>\n",
       "    <tr>\n",
       "      <th>4</th>\n",
       "      <td>426.0</td>\n",
       "      <td>858.223594</td>\n",
       "      <td>540.033939</td>\n",
       "      <td>599.348272</td>\n",
       "    </tr>\n",
       "  </tbody>\n",
       "</table>\n",
       "</div>"
      ],
      "text/plain": [
       "      KNN           LR           RF          GBM\n",
       "0  1975.0   663.461097  2589.631497  1559.337757\n",
       "1   829.8   936.794838  1264.023314  1262.563100\n",
       "2   285.6   887.935422   635.206762   645.947272\n",
       "3  2767.4  1224.843630  2396.138134  1937.767748\n",
       "4   426.0   858.223594   540.033939   599.348272"
      ]
     },
     "execution_count": 74,
     "metadata": {},
     "output_type": "execute_result"
    }
   ],
   "source": [
    "# creating a new test dataframe\n",
    "test_prediction = {\n",
    "    'KNN': M1_test,\n",
    "    'LR': M2_test,\n",
    "    'RF': M3_test,\n",
    "    'GBM': M4_test\n",
    "}\n",
    "test_predictions = pd.DataFrame(test_prediction)\n",
    "test_predictions.head()"
   ]
  },
  {
   "cell_type": "code",
   "execution_count": 83,
   "id": "1d9211c7",
   "metadata": {},
   "outputs": [],
   "source": [
    "from statistics import mean\n",
    "final_pred = np.array([])\n",
    "for i in range (0, len(test_x)):\n",
    "    # Giving more weight to model3 and model4 since they are better than model2\n",
    "    final_pred = np.append(final_pred, mean([M1_test[i], M2_test[i], M3_test[i], M3_test[i], M3_test[i], M4_test[i], M4_test[i]]))"
   ]
  },
  {
   "cell_type": "code",
   "execution_count": 84,
   "id": "ca44ef3e",
   "metadata": {},
   "outputs": [
    {
     "data": {
      "text/plain": [
       "0.02987630927009821"
      ]
     },
     "execution_count": 84,
     "metadata": {},
     "output_type": "execute_result"
    }
   ],
   "source": [
    "r2_score(test_y, final_pred)"
   ]
  },
  {
   "cell_type": "markdown",
   "id": "cfae7c0c",
   "metadata": {},
   "source": [
    "The final r2 score of the test set has improved."
   ]
  },
  {
   "cell_type": "code",
   "execution_count": null,
   "id": "e293d4cc",
   "metadata": {},
   "outputs": [],
   "source": []
  }
 ],
 "metadata": {
  "kernelspec": {
   "display_name": "Python 3",
   "language": "python",
   "name": "python3"
  },
  "language_info": {
   "codemirror_mode": {
    "name": "ipython",
    "version": 3
   },
   "file_extension": ".py",
   "mimetype": "text/x-python",
   "name": "python",
   "nbconvert_exporter": "python",
   "pygments_lexer": "ipython3",
   "version": "3.8.8"
  }
 },
 "nbformat": 4,
 "nbformat_minor": 5
}
